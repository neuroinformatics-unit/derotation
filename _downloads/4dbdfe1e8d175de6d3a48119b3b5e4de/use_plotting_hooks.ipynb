{
  "cells": [
    {
      "cell_type": "markdown",
      "metadata": {},
      "source": [
        "\n# Visualizing derotation line-by-line with custom hooks\n\nThis example demonstrates how to use a custom plotting hook to visualize how\neach image frame is reconstructed during derotation, line by line.\n\nThe derotation process works by rotating each horizontal line of an image by a\ngiven angle and placing it into a new derotated frame. Understanding this\nprocess is useful both for debugging and for developing intuition about how\nmotion correction works.\n\nIn this example, we define a custom hook called after each line is processed\nduring derotation. The hook visualizes the following:\n\n     - The original image, with the current line highlighted\n    - The partially built derotated image\n    - The currently rotated line, overlaid on the right-hand image (if\n      visible)\n\nThe hook is triggered only for frame 135 and every 20 lines, to keep the output\nreadable.\n\nThis can be particularly helpful when:\n    - You want to verify that the rotation mapping is working as expected\n    - You want to debug center of rotation or interpolation artifacts\n    - You are developing your own hooks or modifying the pipeline internals\n"
      ]
    },
    {
      "cell_type": "markdown",
      "metadata": {},
      "source": [
        "## Imports\n\n"
      ]
    },
    {
      "cell_type": "code",
      "execution_count": null,
      "metadata": {
        "collapsed": false
      },
      "outputs": [],
      "source": [
        "from pathlib import Path\n\nimport matplotlib.pyplot as plt\nimport numpy as np\n\nfrom derotation.analysis.full_derotation_pipeline import FullPipeline\nfrom derotation.config.load_config import load_config, update_config_paths"
      ]
    },
    {
      "cell_type": "markdown",
      "metadata": {},
      "source": [
        "## Load and configure paths\nWe'll use a small example dataset and write output to the current folder.\n\n"
      ]
    },
    {
      "cell_type": "code",
      "execution_count": null,
      "metadata": {
        "collapsed": false
      },
      "outputs": [],
      "source": [
        "current_module_path = Path.cwd()\ndata_folder = current_module_path / \"data\"\noutput_folder = current_module_path\n\nconfig = load_config()\nconfig = update_config_paths(\n    config=config,\n    tif_path=str(data_folder / \"rotation_sample.tif\"),\n    aux_path=str(data_folder / \"analog_signals.npy\"),\n    stim_randperm_path=str(data_folder / \"stimulus_randperm.csv\"),\n    output_folder=str(output_folder),\n)"
      ]
    },
    {
      "cell_type": "markdown",
      "metadata": {},
      "source": [
        "## Define a custom hook function\nThis hook is called after every line is derotated and placed into the new\nframe. We'll use it to inspect how frame 135 is constructed over time.\nThis is a simplified version of the hook\n:func:`derotation.plotting_hooks.for_derotation.line_addition`.\n\n"
      ]
    },
    {
      "cell_type": "code",
      "execution_count": null,
      "metadata": {
        "collapsed": false
      },
      "outputs": [],
      "source": [
        "def inspect_frame_135_and_line_180(\n    derotated_filled_image: np.ndarray,\n    rotated_line: np.ndarray,\n    image_counter: int,\n    line_counter: int,\n    angle: float,\n    original_image: np.ndarray,\n):\n    if image_counter == 135 and line_counter == 180:\n        fig, ax = plt.subplots(1, 2, figsize=(10, 5))\n        #  background fig color: black\n        fig.patch.set_facecolor(\"black\")\n\n        ax[0].imshow(original_image, cmap=\"turbo\")\n        #  highlight the line in the original image\n        ax[0].plot(\n            [0, original_image.shape[1] - 1],\n            [line_counter, line_counter],\n            color=\"red\",\n            linewidth=2,\n        )\n        ax[0].set_title(\n            f\"Take line {line_counter}\\nfrom original image,\\n then rotate it\"\n            f\"of {angle:.2f} degrees\"\n        )\n        ax[0].title.set_color(\"white\")\n        ax[0].axis(\"off\")\n\n        ax[1].imshow(derotated_filled_image, cmap=\"turbo\")\n        ax[1].set_title(\n            f\"Place the line in a new image\\nto build frame {image_counter}\"\n        )\n        ax[1].title.set_color(\"white\")\n        ax[1].axis(\"off\")\n\n        #  plot on top axis 1 the rotated_line with a red colormap\n        ax[1].imshow(rotated_line, cmap=\"hsv\", alpha=0.5)\n\n        plt.show()"
      ]
    },
    {
      "cell_type": "markdown",
      "metadata": {},
      "source": [
        "## Register the hook\n\n"
      ]
    },
    {
      "cell_type": "code",
      "execution_count": null,
      "metadata": {
        "collapsed": false
      },
      "outputs": [],
      "source": [
        "hooks = {\n    \"plotting_hook_line_addition\": inspect_frame_135_and_line_180,\n}"
      ]
    },
    {
      "cell_type": "markdown",
      "metadata": {},
      "source": [
        "## Run the derotation pipeline with the custom hook\nOur hook will be called during processing of each line.\n\n"
      ]
    },
    {
      "cell_type": "code",
      "execution_count": null,
      "metadata": {
        "collapsed": false
      },
      "outputs": [],
      "source": [
        "pipeline = FullPipeline(config)\npipeline.hooks = hooks\npipeline()"
      ]
    }
  ],
  "metadata": {
    "kernelspec": {
      "display_name": "Python 3",
      "language": "python",
      "name": "python3"
    },
    "language_info": {
      "codemirror_mode": {
        "name": "ipython",
        "version": 3
      },
      "file_extension": ".py",
      "mimetype": "text/x-python",
      "name": "python",
      "nbconvert_exporter": "python",
      "pygments_lexer": "ipython3",
      "version": "3.12.9"
    }
  },
  "nbformat": 4,
  "nbformat_minor": 0
}