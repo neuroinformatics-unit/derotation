{
 "cells": [
  {
   "cell_type": "markdown",
   "metadata": {},
   "source": [
    "\n# Derotate line-scanning image data\n\nThis tutorial demonstrates how to simulate the effect of a line-by-line\nrotation in a line-scanning microscope and how to correct for it using\nthe `derotation` module.\n\nWe will:\n- Create a synthetic image.\n- Simulate the effect of per-line rotation over a stack of frames.\n- Apply derotation to revert to the original image.\n- Visualise the original, rotated, and derotated images.\n- Explore the effect of varying rotation angles.\n"
   ]
  },
  {
   "cell_type": "markdown",
   "metadata": {},
   "source": [
    "## Imports\n\n"
   ]
  },
  {
   "cell_type": "code",
   "execution_count": null,
   "metadata": {
    "collapsed": false
   },
   "outputs": [],
   "source": [
    "import matplotlib.pyplot as plt\n",
    "import numpy as np\n",
    "\n",
    "from derotation.derotate_by_line import derotate_an_image_array_line_by_line\n",
    "from derotation.simulate.line_scanning_microscope import Rotator"
   ]
  },
  {
   "cell_type": "markdown",
   "metadata": {},
   "source": [
    "## Create synthetic image\nWe generate a 100x100 image with horizontal bands of varying intensity.\nThis will help visualise the rotation effects clearly.\n\n"
   ]
  },
  {
   "cell_type": "code",
   "execution_count": null,
   "metadata": {
    "collapsed": false
   },
   "outputs": [],
   "source": [
    "image = np.empty((100, 100))\n",
    "gray_values = [i % 5 * 100 + 155 for i in range(100)]\n",
    "for i in range(100):\n",
    "    image[i] = gray_values[i]\n",
    "\n",
    "# Add a black border for easier visual inspection\n",
    "image[:20] = 0\n",
    "image[-20:] = 0\n",
    "image[:, :20] = 0\n",
    "image[:, -20:] = 0\n",
    "\n",
    "# Show the synthetic image\n",
    "plt.imshow(image, cmap=\"gray\")\n",
    "plt.title(\"Original synthetic image\")\n",
    "plt.axis(\"off\")\n",
    "plt.show()"
   ]
  },
  {
   "cell_type": "markdown",
   "metadata": {},
   "source": [
    "## Generate stack and simulate rotation\nWe'll make a stack of 3 frames and simulate a line-by-line rotation using\nincreasing angles for each line.\n\n"
   ]
  },
  {
   "cell_type": "code",
   "execution_count": null,
   "metadata": {
    "collapsed": false
   },
   "outputs": [],
   "source": [
    "image_stack = np.array([image, image, image])\n",
    "num_lines = image_stack.shape[0] * image_stack.shape[1]\n",
    "angles = np.arange(num_lines)  # 0 to num_lines-1 degrees\n",
    "\n",
    "# Print info about the angles\n",
    "print(f\"Total number of angles: {len(angles)}\")\n",
    "print(f\"Angle range: {angles.min()}° to {angles.max()}°\")\n",
    "\n",
    "# Simulate rotation\n",
    "rotator = Rotator(angles, image_stack)\n",
    "rotated_image_stack = rotator.rotate_by_line()"
   ]
  },
  {
   "cell_type": "markdown",
   "metadata": {},
   "source": [
    "## Apply derotation\nUse our derotation method to revert the rotated images.\n\n"
   ]
  },
  {
   "cell_type": "code",
   "execution_count": null,
   "metadata": {
    "collapsed": false
   },
   "outputs": [],
   "source": [
    "rotated_image_stack_derotated = derotate_an_image_array_line_by_line(\n",
    "    rotated_image_stack, angles\n",
    ")"
   ]
  },
  {
   "cell_type": "markdown",
   "metadata": {},
   "source": [
    "## Plot original, rotated, and derotated images\n\n"
   ]
  },
  {
   "cell_type": "code",
   "execution_count": null,
   "metadata": {
    "collapsed": false
   },
   "outputs": [],
   "source": [
    "num_frames = len(rotated_image_stack)\n",
    "fig, ax = plt.subplots(2, num_frames, figsize=(5 * num_frames, 8))\n",
    "\n",
    "# Plot rotated images with angle labels\n",
    "for i in range(num_frames):\n",
    "    ax[0, i].imshow(rotated_image_stack[i], cmap=\"gray\")\n",
    "    ax[0, i].set_title(f\"Rotated image {i + 1}\")\n",
    "    ax[0, i].axis(\"off\")\n",
    "\n",
    "    # Get angle slice for this frame\n",
    "    angle_slice = rotator.angles[i * num_lines : (i + 1) * num_lines]\n",
    "    if angle_slice.size > 0:\n",
    "        angle_range = f\"{angle_slice.min():.0f}–{angle_slice.max():.0f}°\"\n",
    "        ax[0, i].text(\n",
    "            0.5,\n",
    "            0.9,\n",
    "            angle_range,\n",
    "            horizontalalignment=\"center\",\n",
    "            verticalalignment=\"center\",\n",
    "            transform=ax[0, i].transAxes,\n",
    "            color=\"white\",\n",
    "            fontsize=10,\n",
    "            bbox=dict(facecolor=\"black\", alpha=0.5, boxstyle=\"round\"),\n",
    "        )\n",
    "\n",
    "# Plot derotated images\n",
    "for i in range(num_frames):\n",
    "    ax[1, i].imshow(rotated_image_stack_derotated[i], cmap=\"gray\")\n",
    "    ax[1, i].set_title(f\"Derotated image {i + 1}\")\n",
    "    ax[1, i].axis(\"off\")\n",
    "\n",
    "plt.tight_layout()\n",
    "plt.show()"
   ]
  },
  {
   "cell_type": "markdown",
   "metadata": {},
   "source": [
    "## Conclusion\nWe have simulated a rotating image acquisition scenario, applied derotation\nto correct the distortions, and visualised the impact of line-by-line\nrotation. Notice how the derotated images recover the original structure.\n\n"
   ]
  }
 ],
 "metadata": {
  "kernelspec": {
   "display_name": "Python 3",
   "language": "python",
   "name": "python3"
  },
  "language_info": {
   "codemirror_mode": {
    "name": "ipython",
    "version": 3
   },
   "file_extension": ".py",
   "mimetype": "text/x-python",
   "name": "python",
   "nbconvert_exporter": "python",
   "pygments_lexer": "ipython3",
   "version": "3.12.4"
  }
 },
 "nbformat": 4,
 "nbformat_minor": 0
}
