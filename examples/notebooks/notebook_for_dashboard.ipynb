{
 "cells": [
  {
   "cell_type": "code",
   "execution_count": 1,
   "id": "9f5a68a1-e97e-462f-84d3-f720f518a3ff",
   "metadata": {},
   "outputs": [
    {
     "name": "stderr",
     "output_type": "stream",
     "text": [
      "/Users/laura/mambaforge3/envs/fens2024/lib/python3.11/site-packages/allensdk/brain_observatory/dff.py:42: DeprecationWarning: Please use `median_filter` from the `scipy.ndimage` namespace, the `scipy.ndimage.filters` namespace is deprecated.\n",
      "  from scipy.ndimage.filters import median_filter\n",
      "/Users/laura/mambaforge3/envs/fens2024/lib/python3.11/site-packages/allensdk/core/brain_observatory_nwb_data_set.py:43: DeprecationWarning: pkg_resources is deprecated as an API. See https://setuptools.pypa.io/en/latest/pkg_resources.html\n",
      "  from pkg_resources import parse_version\n",
      "/Users/laura/mambaforge3/envs/fens2024/lib/python3.11/site-packages/allensdk/brain_observatory/receptive_field_analysis/utilities.py:41: DeprecationWarning: Please use `gaussian_filter` from the `scipy.ndimage` namespace, the `scipy.ndimage.filters` namespace is deprecated.\n",
      "  from scipy.ndimage.filters import gaussian_filter\n"
     ]
    },
    {
     "data": {
      "application/vnd.jupyter.widget-view+json": {
       "model_id": "a2b187eb3dd7458c963aa5f90afa147e",
       "version_major": 2,
       "version_minor": 0
      },
      "text/plain": [
       "Image(value=b'\\x89PNG\\r\\n\\x1a\\n\\x00\\x00\\x00\\rIHDR\\x00\\x00\\x01,\\x00\\x00\\x007\\x08\\x06\\x00\\x00\\x00\\xb6\\x1bw\\x99\\x…"
      ]
     },
     "metadata": {},
     "output_type": "display_data"
    },
    {
     "name": "stdout",
     "output_type": "stream",
     "text": [
      "Available devices:\n",
      "🯄 (default) | Apple M1 Pro | IntegratedGPU | Metal | \n"
     ]
    }
   ],
   "source": [
    "import pynapple as nap\n",
    "import matplotlib.pyplot as plt\n",
    "import pandas as pd\n",
    "import numpy as np\n",
    "from allensdk.brain_observatory.r_neuropil import NeuropilSubtract\n",
    "import allensdk.brain_observatory.dff as dff_module\n",
    "import tifffile\n",
    "import fastplotlib as fpl\n",
    "from pathlib import Path\n",
    "from ipywidgets import VBox, HBox, Box, Layout, AppLayout\n",
    "import warnings\n",
    "from skimage.measure import find_contours\n",
    "\n",
    "\n",
    "warnings.filterwarnings(\"ignore\", category=DeprecationWarning)"
   ]
  },
  {
   "cell_type": "code",
   "execution_count": 2,
   "id": "55fbfe73-0006-40be-a99e-998aed4bfca6",
   "metadata": {},
   "outputs": [],
   "source": [
    "# load data\n",
    "\n",
    "suite2p_data = nap.load_file('suite2p.nwb')\n",
    "rotation_info = pd.read_csv('rotation_info.csv')\n"
   ]
  },
  {
   "cell_type": "code",
   "execution_count": 3,
   "id": "16adf6a2-780e-44b8-a658-3e78a0613f47",
   "metadata": {},
   "outputs": [
    {
     "name": "stderr",
     "output_type": "stream",
     "text": [
      "/Users/laura/mambaforge3/envs/fens2024/lib/python3.11/site-packages/pynapple/core/utils.py:186: UserWarning: Converting 'd' to numpy.array. The provided array was of type 'Series'.\n",
      "  warnings.warn(\n"
     ]
    }
   ],
   "source": [
    "# Isolate first main objects\n",
    "# fluorescence\n",
    "raw_fluorescence = suite2p_data['RoiResponseSeries']\n",
    "\n",
    "# neuropil\n",
    "neuropil = suite2p_data['Neuropil']\n",
    "\n",
    "# rotation_angles\n",
    "rotation_angles = nap.Tsd(\n",
    "    t = raw_fluorescence.t, \n",
    "    d = rotation_info['rotation_angle'])\n",
    "\n",
    "# when is the rotation happening: interval set\n",
    "rotation_stim = nap.TsdFrame(\n",
    "    t=raw_fluorescence.t, \n",
    "    d=rotation_info[['direction', 'speed', 'rotation_count']].values, \n",
    "    columns=['direction', 'speed', 'rotation_count'])\n",
    "\n",
    "rotation_on_intervals = rotation_angles.threshold(0).time_support.union(rotation_angles.threshold(0, 'below').time_support)\n",
    "\n",
    "stimuli_start_info = nap.TsdFrame(rotation_stim.restrict(rotation_on_intervals).as_dataframe().drop_duplicates('rotation_count').dropna())\n"
   ]
  },
  {
   "cell_type": "code",
   "execution_count": 84,
   "id": "d1f15d51-3896-4c71-ad48-6171ddcc85af",
   "metadata": {},
   "outputs": [
    {
     "data": {
      "text/html": [
       "<div>\n",
       "<style scoped>\n",
       "    .dataframe tbody tr th:only-of-type {\n",
       "        vertical-align: middle;\n",
       "    }\n",
       "\n",
       "    .dataframe tbody tr th {\n",
       "        vertical-align: top;\n",
       "    }\n",
       "\n",
       "    .dataframe thead th {\n",
       "        text-align: right;\n",
       "    }\n",
       "</style>\n",
       "<table border=\"1\" class=\"dataframe\">\n",
       "  <thead>\n",
       "    <tr style=\"text-align: right;\">\n",
       "      <th></th>\n",
       "      <th>start</th>\n",
       "      <th>end</th>\n",
       "    </tr>\n",
       "  </thead>\n",
       "  <tbody>\n",
       "    <tr>\n",
       "      <th>0</th>\n",
       "      <td>19.213650</td>\n",
       "      <td>22.181009</td>\n",
       "    </tr>\n",
       "    <tr>\n",
       "      <th>1</th>\n",
       "      <td>34.198813</td>\n",
       "      <td>37.166172</td>\n",
       "    </tr>\n",
       "    <tr>\n",
       "      <th>2</th>\n",
       "      <td>49.183976</td>\n",
       "      <td>52.448071</td>\n",
       "    </tr>\n",
       "    <tr>\n",
       "      <th>3</th>\n",
       "      <td>64.169139</td>\n",
       "      <td>71.735905</td>\n",
       "    </tr>\n",
       "    <tr>\n",
       "      <th>4</th>\n",
       "      <td>79.302671</td>\n",
       "      <td>83.456973</td>\n",
       "    </tr>\n",
       "    <tr>\n",
       "      <th>...</th>\n",
       "      <td>...</td>\n",
       "      <td>...</td>\n",
       "    </tr>\n",
       "    <tr>\n",
       "      <th>75</th>\n",
       "      <td>1145.474777</td>\n",
       "      <td>1152.893175</td>\n",
       "    </tr>\n",
       "    <tr>\n",
       "      <th>76</th>\n",
       "      <td>1160.459941</td>\n",
       "      <td>1164.762611</td>\n",
       "    </tr>\n",
       "    <tr>\n",
       "      <th>77</th>\n",
       "      <td>1175.445104</td>\n",
       "      <td>1183.011869</td>\n",
       "    </tr>\n",
       "    <tr>\n",
       "      <th>78</th>\n",
       "      <td>1190.578635</td>\n",
       "      <td>1197.997033</td>\n",
       "    </tr>\n",
       "    <tr>\n",
       "      <th>79</th>\n",
       "      <td>1205.563798</td>\n",
       "      <td>1209.718101</td>\n",
       "    </tr>\n",
       "  </tbody>\n",
       "</table>\n",
       "<p>80 rows × 2 columns</p>\n",
       "</div>"
      ],
      "text/plain": [
       "          start          end\n",
       "0     19.213650    22.181009\n",
       "1     34.198813    37.166172\n",
       "2     49.183976    52.448071\n",
       "3     64.169139    71.735905\n",
       "4     79.302671    83.456973\n",
       "..          ...          ...\n",
       "75  1145.474777  1152.893175\n",
       "76  1160.459941  1164.762611\n",
       "77  1175.445104  1183.011869\n",
       "78  1190.578635  1197.997033\n",
       "79  1205.563798  1209.718101\n",
       "\n",
       "[80 rows x 2 columns]"
      ]
     },
     "execution_count": 84,
     "metadata": {},
     "output_type": "execute_result"
    }
   ],
   "source": []
  },
  {
   "cell_type": "code",
   "execution_count": 4,
   "id": "9aeadffb-1012-4c9f-b86b-42da028901f6",
   "metadata": {},
   "outputs": [
    {
     "name": "stderr",
     "output_type": "stream",
     "text": [
      "/Users/laura/mambaforge3/envs/fens2024/lib/python3.11/site-packages/numpy/core/fromnumeric.py:3432: RuntimeWarning: Mean of empty slice.\n",
      "  return _methods._mean(a, axis=axis, dtype=dtype,\n",
      "/Users/laura/mambaforge3/envs/fens2024/lib/python3.11/site-packages/numpy/core/_methods.py:190: RuntimeWarning: invalid value encountered in divide\n",
      "  ret = ret.dtype.type(ret / rcount)\n"
     ]
    }
   ],
   "source": [
    "# First do neuropil subtraction\n",
    "\n",
    "def neuropil_subtraction(f, f_neu):\n",
    "    #  use default parameters for all methods\n",
    "    neuropil_subtraction = NeuropilSubtract()\n",
    "    neuropil_subtraction.set_F(f, f_neu)\n",
    "    neuropil_subtraction.fit()\n",
    "\n",
    "    r = neuropil_subtraction.r\n",
    "\n",
    "    f_corr = f - r * f_neu\n",
    "\n",
    "    dff = 100 * dff_module.compute_dff_windowed_median(f_corr, median_kernel_long = 1213, median_kernel_short = 23)\n",
    "\n",
    "    return dff, r\n",
    "\n",
    "dff, r = neuropil_subtraction(raw_fluorescence[:].values.T, neuropil[:].values.T)\n",
    "\n",
    "dff = nap.dff(t = raw_fluorescence.t, d = dff.T)"
   ]
  },
  {
   "cell_type": "code",
   "execution_count": 87,
   "id": "ccc09e16-ba86-4dde-b58b-18ec61cf8856",
   "metadata": {},
   "outputs": [
    {
     "ename": "ValueError",
     "evalue": "('Lengths must match to compare', (80,), (40,))",
     "output_type": "error",
     "traceback": [
      "\u001b[0;31m---------------------------------------------------------------------------\u001b[0m",
      "\u001b[0;31mValueError\u001b[0m                                Traceback (most recent call last)",
      "Cell \u001b[0;32mIn[87], line 7\u001b[0m\n\u001b[1;32m      5\u001b[0m subset \u001b[38;5;241m=\u001b[39m stimuli_start_info_df[stimuli_start_info_df[key] \u001b[38;5;241m==\u001b[39m item]\n\u001b[1;32m      6\u001b[0m starts \u001b[38;5;241m=\u001b[39m subset\u001b[38;5;241m.\u001b[39mindex\n\u001b[0;32m----> 7\u001b[0m rotation_on_intervals_df[\u001b[43mrotation_on_intervals_df\u001b[49m\u001b[43m[\u001b[49m\u001b[38;5;124;43m\"\u001b[39;49m\u001b[38;5;124;43mstart\u001b[39;49m\u001b[38;5;124;43m\"\u001b[39;49m\u001b[43m]\u001b[49m\u001b[43m \u001b[49m\u001b[38;5;241;43m==\u001b[39;49m\u001b[43m \u001b[49m\u001b[43mstarts\u001b[49m]\n",
      "File \u001b[0;32m~/mambaforge3/envs/fens2024/lib/python3.11/site-packages/pandas/core/ops/common.py:72\u001b[0m, in \u001b[0;36m_unpack_zerodim_and_defer.<locals>.new_method\u001b[0;34m(self, other)\u001b[0m\n\u001b[1;32m     68\u001b[0m             \u001b[38;5;28;01mreturn\u001b[39;00m \u001b[38;5;28mNotImplemented\u001b[39m\n\u001b[1;32m     70\u001b[0m other \u001b[38;5;241m=\u001b[39m item_from_zerodim(other)\n\u001b[0;32m---> 72\u001b[0m \u001b[38;5;28;01mreturn\u001b[39;00m \u001b[43mmethod\u001b[49m\u001b[43m(\u001b[49m\u001b[38;5;28;43mself\u001b[39;49m\u001b[43m,\u001b[49m\u001b[43m \u001b[49m\u001b[43mother\u001b[49m\u001b[43m)\u001b[49m\n",
      "File \u001b[0;32m~/mambaforge3/envs/fens2024/lib/python3.11/site-packages/pandas/core/arraylike.py:42\u001b[0m, in \u001b[0;36mOpsMixin.__eq__\u001b[0;34m(self, other)\u001b[0m\n\u001b[1;32m     40\u001b[0m \u001b[38;5;129m@unpack_zerodim_and_defer\u001b[39m(\u001b[38;5;124m\"\u001b[39m\u001b[38;5;124m__eq__\u001b[39m\u001b[38;5;124m\"\u001b[39m)\n\u001b[1;32m     41\u001b[0m \u001b[38;5;28;01mdef\u001b[39;00m \u001b[38;5;21m__eq__\u001b[39m(\u001b[38;5;28mself\u001b[39m, other):\n\u001b[0;32m---> 42\u001b[0m     \u001b[38;5;28;01mreturn\u001b[39;00m \u001b[38;5;28;43mself\u001b[39;49m\u001b[38;5;241;43m.\u001b[39;49m\u001b[43m_cmp_method\u001b[49m\u001b[43m(\u001b[49m\u001b[43mother\u001b[49m\u001b[43m,\u001b[49m\u001b[43m \u001b[49m\u001b[43moperator\u001b[49m\u001b[38;5;241;43m.\u001b[39;49m\u001b[43meq\u001b[49m\u001b[43m)\u001b[49m\n",
      "File \u001b[0;32m~/mambaforge3/envs/fens2024/lib/python3.11/site-packages/pandas/core/series.py:6243\u001b[0m, in \u001b[0;36mSeries._cmp_method\u001b[0;34m(self, other, op)\u001b[0m\n\u001b[1;32m   6240\u001b[0m rvalues \u001b[38;5;241m=\u001b[39m extract_array(other, extract_numpy\u001b[38;5;241m=\u001b[39m\u001b[38;5;28;01mTrue\u001b[39;00m, extract_range\u001b[38;5;241m=\u001b[39m\u001b[38;5;28;01mTrue\u001b[39;00m)\n\u001b[1;32m   6242\u001b[0m \u001b[38;5;28;01mwith\u001b[39;00m np\u001b[38;5;241m.\u001b[39merrstate(\u001b[38;5;28mall\u001b[39m\u001b[38;5;241m=\u001b[39m\u001b[38;5;124m\"\u001b[39m\u001b[38;5;124mignore\u001b[39m\u001b[38;5;124m\"\u001b[39m):\n\u001b[0;32m-> 6243\u001b[0m     res_values \u001b[38;5;241m=\u001b[39m \u001b[43mops\u001b[49m\u001b[38;5;241;43m.\u001b[39;49m\u001b[43mcomparison_op\u001b[49m\u001b[43m(\u001b[49m\u001b[43mlvalues\u001b[49m\u001b[43m,\u001b[49m\u001b[43m \u001b[49m\u001b[43mrvalues\u001b[49m\u001b[43m,\u001b[49m\u001b[43m \u001b[49m\u001b[43mop\u001b[49m\u001b[43m)\u001b[49m\n\u001b[1;32m   6245\u001b[0m \u001b[38;5;28;01mreturn\u001b[39;00m \u001b[38;5;28mself\u001b[39m\u001b[38;5;241m.\u001b[39m_construct_result(res_values, name\u001b[38;5;241m=\u001b[39mres_name)\n",
      "File \u001b[0;32m~/mambaforge3/envs/fens2024/lib/python3.11/site-packages/pandas/core/ops/array_ops.py:264\u001b[0m, in \u001b[0;36mcomparison_op\u001b[0;34m(left, right, op)\u001b[0m\n\u001b[1;32m    259\u001b[0m \u001b[38;5;28;01mif\u001b[39;00m \u001b[38;5;28misinstance\u001b[39m(rvalues, (np\u001b[38;5;241m.\u001b[39mndarray, ABCExtensionArray)):\n\u001b[1;32m    260\u001b[0m     \u001b[38;5;66;03m# TODO: make this treatment consistent across ops and classes.\u001b[39;00m\n\u001b[1;32m    261\u001b[0m     \u001b[38;5;66;03m#  We are not catching all listlikes here (e.g. frozenset, tuple)\u001b[39;00m\n\u001b[1;32m    262\u001b[0m     \u001b[38;5;66;03m#  The ambiguous case is object-dtype.  See GH#27803\u001b[39;00m\n\u001b[1;32m    263\u001b[0m     \u001b[38;5;28;01mif\u001b[39;00m \u001b[38;5;28mlen\u001b[39m(lvalues) \u001b[38;5;241m!=\u001b[39m \u001b[38;5;28mlen\u001b[39m(rvalues):\n\u001b[0;32m--> 264\u001b[0m         \u001b[38;5;28;01mraise\u001b[39;00m \u001b[38;5;167;01mValueError\u001b[39;00m(\n\u001b[1;32m    265\u001b[0m             \u001b[38;5;124m\"\u001b[39m\u001b[38;5;124mLengths must match to compare\u001b[39m\u001b[38;5;124m\"\u001b[39m, lvalues\u001b[38;5;241m.\u001b[39mshape, rvalues\u001b[38;5;241m.\u001b[39mshape\n\u001b[1;32m    266\u001b[0m         )\n\u001b[1;32m    268\u001b[0m \u001b[38;5;28;01mif\u001b[39;00m should_extension_dispatch(lvalues, rvalues) \u001b[38;5;129;01mor\u001b[39;00m (\n\u001b[1;32m    269\u001b[0m     (\u001b[38;5;28misinstance\u001b[39m(rvalues, (Timedelta, BaseOffset, Timestamp)) \u001b[38;5;129;01mor\u001b[39;00m right \u001b[38;5;129;01mis\u001b[39;00m NaT)\n\u001b[1;32m    270\u001b[0m     \u001b[38;5;129;01mand\u001b[39;00m \u001b[38;5;129;01mnot\u001b[39;00m is_object_dtype(lvalues\u001b[38;5;241m.\u001b[39mdtype)\n\u001b[1;32m    271\u001b[0m ):\n\u001b[1;32m    272\u001b[0m     \u001b[38;5;66;03m# Call the method on lvalues\u001b[39;00m\n\u001b[1;32m    273\u001b[0m     res_values \u001b[38;5;241m=\u001b[39m op(lvalues, rvalues)\n",
      "\u001b[0;31mValueError\u001b[0m: ('Lengths must match to compare', (80,), (40,))"
     ]
    }
   ],
   "source": [
    "stimuli_start_info_df = stimuli_start_info.as_dataframe()\n",
    "rotation_on_intervals_df = rotation_on_intervals.as_dataframe()\n",
    "for key in stimuli_start_info_df.keys()[:2]:\n",
    "    for item in stimuli_start_info_df[key].unique():\n",
    "        subset = stimuli_start_info_df[stimuli_start_info_df[key] == item]\n",
    "        starts = subset.index\n",
    "        rotation_on_intervals_df[rotation_on_intervals_df[\"start\"] == starts]"
   ]
  },
  {
   "cell_type": "code",
   "execution_count": 6,
   "id": "9e605c82-e68d-4917-aa1d-9c6f5b56602b",
   "metadata": {},
   "outputs": [],
   "source": [
    "# where is the data in nwb file?\n",
    "plane_seg = suite2p_data.nwb.processing['ophys'].data_interfaces['ImageSegmentation'].plane_segmentations['PlaneSegmentation']\n",
    "\n",
    "ROI_centroids = plane_seg.ROICentroids[:]\n",
    "is_cell = plane_seg.Accepted[:]\n",
    "labels = plane_seg.image_mask[:]\n"
   ]
  },
  {
   "cell_type": "code",
   "execution_count": 7,
   "id": "deefd8f5-9ffd-4753-a97b-7b6cf479b5b7",
   "metadata": {},
   "outputs": [],
   "source": [
    "contours = [find_contours(c)[0] for c in labels[is_cell.astype(bool)]]"
   ]
  },
  {
   "cell_type": "code",
   "execution_count": 8,
   "id": "fd81c5c5-6e9f-47ed-9612-739fac52aeba",
   "metadata": {},
   "outputs": [],
   "source": [
    "# import the registered binary\n",
    "path_to_bin_file = Path(\n",
    "    \"/Users/laura/data/derotation/raw/230802_CAA_1120182/derotated/archive/test/suite2p/plane0/data.bin\")\n",
    "\n",
    "shape_image = (16516, 256, 256)\n",
    "registered = np.memmap(path_to_bin_file, shape=shape_image, dtype=\"int16\")\n",
    "\n"
   ]
  },
  {
   "cell_type": "code",
   "execution_count": 45,
   "id": "4786e40f-159d-49b0-8f96-e76d145f8e0e",
   "metadata": {},
   "outputs": [],
   "source": [
    "def find_ROI(nearest):\n",
    "    x, y, _ = np.asarray(nearest.data.value).mean(axis=0)\n",
    "    # print(f'x:{x}, y:{y}')\n",
    "    closest_x = np.abs(ROI_centroids[:, 0] - x).argmin()\n",
    "    closest_y = np.abs(ROI_centroids[:, 1] - y).argmin()\n",
    "    # print(f'closest x: {closest_x}, closest_y: {closest_y}')\n",
    "    idx = None\n",
    "    if closest_x != closest_y:\n",
    "        delta_x = ROI_centroids[closest_x, 0] - x\n",
    "        delta_y = ROI_centroids[closest_y, 1] - y\n",
    "        if delta_x < delta_y:\n",
    "            return closest_x\n",
    "        else:\n",
    "            return closest_y\n",
    "    else:\n",
    "        return closest_x\n"
   ]
  },
  {
   "cell_type": "code",
   "execution_count": 88,
   "id": "4376b58c-0765-4a60-8cfa-8d3216f90165",
   "metadata": {
    "editable": true,
    "slideshow": {
     "slide_type": ""
    },
    "tags": []
   },
   "outputs": [
    {
     "data": {
      "application/vnd.jupyter.widget-view+json": {
       "model_id": "5df2a09ffb8a4487a062e28eafa2f207",
       "version_major": 2,
       "version_minor": 0
      },
      "text/plain": [
       "RFBOutputContext()"
      ]
     },
     "metadata": {},
     "output_type": "display_data"
    },
    {
     "data": {
      "application/vnd.jupyter.widget-view+json": {
       "model_id": "bfb6f6455dc5424a85ac7392e7b8de08",
       "version_major": 2,
       "version_minor": 0
      },
      "text/plain": [
       "RFBOutputContext()"
      ]
     },
     "metadata": {},
     "output_type": "display_data"
    },
    {
     "data": {
      "application/vnd.jupyter.widget-view+json": {
       "model_id": "ddf53564bb76483e8c32ef4cbed4c1f4",
       "version_major": 2,
       "version_minor": 0
      },
      "text/plain": [
       "RFBOutputContext()"
      ]
     },
     "metadata": {},
     "output_type": "display_data"
    },
    {
     "data": {
      "application/vnd.jupyter.widget-view+json": {
       "model_id": "83addb02b9de48ef841de25ac4a3424f",
       "version_major": 2,
       "version_minor": 0
      },
      "text/plain": [
       "AppLayout(children=(JupyterOutputContext(children=(JupyterWgpuCanvas(css_width='1200px'), IpywidgetToolBar(chi…"
      ]
     },
     "execution_count": 88,
     "metadata": {},
     "output_type": "execute_result"
    }
   ],
   "source": [
    "# Panel 1\n",
    "colors = {key:\"white\" for key in range(len(rotation_info['rotation_angle']))}\n",
    "for i, row in rotation_info.iterrows():\n",
    "    if row['direction'] == -1:\n",
    "        colors[i] = 'green'\n",
    "    if row['direction'] == 1:\n",
    "        colors[i] = 'magenta'\n",
    "        \n",
    "rotation_fig = fpl.Figure((3, 1), size=(1200, 300))\n",
    "angles_top_plot = rotation_fig[0, 0].add_line(data=rotation_info['rotation_angle'], thickness=1, colors=list(colors.values()))\n",
    "\n",
    "region_selector = angles_top_plot.add_linear_region_selector()\n",
    "zoomed_init = region_selector.get_selected_data()\n",
    "zoomed_x = rotation_fig[1, 0].add_line(zoomed_init)\n",
    "\n",
    "selector = angles_top_plot.add_linear_selector()\n",
    "\n",
    "selection_boundaries = region_selector.get_selected_indices()\n",
    "sliced_dff = dff[selection_boundaries[0]:selection_boundaries[-1]]\n",
    "\n",
    "dff_lines = rotation_fig[2, 0].add_line_stack(\n",
    "    np.asarray(sliced_dff).T[is_cell], \n",
    "    cmap=\"jet\",  \n",
    "    thickness=1,\n",
    "    separation=1, \n",
    ")\n",
    "\n",
    "@region_selector.add_event_handler(\"selection\")\n",
    "def slice_dff_array(ev):\n",
    "    global zoomed_x\n",
    "    selected_data = ev.get_selected_data()\n",
    "    rotation_fig[1, 0].remove_graphic(zoomed_x)\n",
    "    zoomed_x = rotation_fig[1, 0].add_line(selected_data)\n",
    "    rotation_fig[1, 0].auto_scale()\n",
    "\n",
    "    global dff_lines\n",
    "    global sliced_dff\n",
    "    selection_boundaries = ev.get_selected_indices()\n",
    "    sliced_dff = dff[selection_boundaries[0]:selection_boundaries[-1]]\n",
    "\n",
    "    rotation_fig[2, 0].clear()\n",
    "    dff_lines = rotation_fig[2, 0].add_line_stack(\n",
    "        np.asarray(sliced_dff).T[is_cell],  \n",
    "        cmap=\"jet\",  \n",
    "        thickness=1,\n",
    "        separation=1, \n",
    "    )\n",
    "    rotation_fig[2, 0].auto_scale()\n",
    "\n",
    "    fig_single_trace[0, 0].clear()\n",
    "    single_line = fig_single_trace[0, 0].add_line(\n",
    "        data=np.asarray(sliced_dff).T[idx],\n",
    "        thickness=2,\n",
    "        cmap=\"plasma\",\n",
    "    )\n",
    "    fig_single_trace[0, 0].auto_scale()\n",
    "\n",
    "\n",
    "# Panel 2\n",
    "iw = fpl.ImageWidget(registered[:len(rotation_info['rotation_angle'])], cmap=\"gnuplot2\")\n",
    "iw.show()\n",
    "contours_graphic = iw.figure[0, 0].add_line_collection(contours, thickness=2, colors=\"green\")\n",
    "\n",
    "# Panel 3\n",
    "fig_single_trace = fpl.Figure()\n",
    "idx = 0\n",
    "single_line = fig_single_trace[0, 0].add_line(\n",
    "    data=np.asarray(sliced_dff).T[idx],\n",
    "    thickness=2,\n",
    "    cmap=\"plasma\",\n",
    ")\n",
    "\n",
    "rotation_fig.show(maintain_aspect=False)\n",
    "\n",
    "def set_selected_component(ev):\n",
    "    xy = iw.figure[0, 0].map_screen_to_world(ev)[:-1]\n",
    "    global nearest\n",
    "    nearest = fpl.utils.get_nearest_graphics(xy, contours_graphic)[0]\n",
    "    contours_graphic.colors = \"green\"\n",
    "    nearest.colors = \"w\"\n",
    "\n",
    "    global idx\n",
    "    global single_line\n",
    "    idx = find_ROI(nearest)\n",
    "    fig_single_trace[0, 0].clear()\n",
    "    single_line = fig_single_trace[0, 0].add_line(\n",
    "        data=np.asarray(sliced_dff).T[idx],\n",
    "        thickness=2,\n",
    "        cmap=\"plasma\",\n",
    "    )\n",
    "    fig_single_trace[0, 0].auto_scale()\n",
    "\n",
    "    \n",
    "iw.figure.renderer.add_event_handler(set_selected_component, \"click\")\n",
    "selector.add_ipywidget_handler(iw.sliders[\"t\"], step=1)\n",
    "\n",
    "# Handling ipywidgets layout\n",
    "AppLayout(\n",
    "    header = rotation_fig.show(maintain_aspect=False),\n",
    "    left_sidebar = iw.show(),\n",
    "    right_sidebar = fig_single_trace.show(maintain_aspect=False),\n",
    "\n",
    ")"
   ]
  },
  {
   "cell_type": "code",
   "execution_count": null,
   "id": "9812aace-548d-40c6-b140-de8c64d990bb",
   "metadata": {},
   "outputs": [],
   "source": []
  }
 ],
 "metadata": {
  "kernelspec": {
   "display_name": "Python 3 (ipykernel)",
   "language": "python",
   "name": "python3"
  },
  "language_info": {
   "codemirror_mode": {
    "name": "ipython",
    "version": 3
   },
   "file_extension": ".py",
   "mimetype": "text/x-python",
   "name": "python",
   "nbconvert_exporter": "python",
   "pygments_lexer": "ipython3",
   "version": "3.11.9"
  }
 },
 "nbformat": 4,
 "nbformat_minor": 5
}
