{
  "cells": [
    {
      "cell_type": "markdown",
      "metadata": {},
      "source": [
        "\n# Derotate a TIFF movie line-by-line using precomputed rotation angles\n\nThis script demonstrates how to load a 3D TIFF image stack (frames \u00d7 height \u00d7\nwidth) and apply line-by-line derotation using a set of precomputed rotation\nangles.\n\nEach horizontal line in the image is rotated by a specific angle (in degrees),\nallowing correction for sample motion or intentional rotation during\nacquisition.\n\nInputs:\n\n- angles_per_line.npy: A 1D NumPy array of angles in degrees, with one value\n  per image line\n- rotation_sample.tif: A TIFF stack to be derotated.\n\nThe script computes the derotated movie and displays the mean image of the\nderotated stack.\n"
      ]
    },
    {
      "cell_type": "code",
      "execution_count": null,
      "metadata": {
        "collapsed": false
      },
      "outputs": [],
      "source": [
        "import matplotlib.pyplot as plt\nimport numpy as np\nimport tifffile\n\nfrom derotation.derotate_by_line import derotate_an_image_array_line_by_line\nfrom derotation.sample_data import fetch_data"
      ]
    },
    {
      "cell_type": "markdown",
      "metadata": {},
      "source": [
        "Load per-line rotation angles\n\n"
      ]
    },
    {
      "cell_type": "code",
      "execution_count": null,
      "metadata": {
        "collapsed": false
      },
      "outputs": [],
      "source": [
        "angles_path = fetch_data(\"angles_per_line.npy\")\nprint(f\"Loading per-line rotation angles from {angles_path}\")\nangles_per_line = np.load(angles_path)  # Shape: (height,)"
      ]
    },
    {
      "cell_type": "markdown",
      "metadata": {},
      "source": [
        "Load the TIFF stack (shape: num_frames \u00d7 height \u00d7 width)\n\n"
      ]
    },
    {
      "cell_type": "code",
      "execution_count": null,
      "metadata": {
        "collapsed": false
      },
      "outputs": [],
      "source": [
        "tif_path = fetch_data(\"rotation_sample.tif\")\nprint(f\"Loading image stack from {tif_path}\")\nimage_stack = tifffile.imread(tif_path)\n\nprint(f\"Image stack shape: {image_stack.shape}\")\nprint(f\"Angles per line shape: {angles_per_line.shape}\")"
      ]
    },
    {
      "cell_type": "markdown",
      "metadata": {},
      "source": [
        "See the angles\n\n"
      ]
    },
    {
      "cell_type": "code",
      "execution_count": null,
      "metadata": {
        "collapsed": false
      },
      "outputs": [],
      "source": [
        "fig, ax = plt.subplots(figsize=(10, 5))\nax.scatter(np.arange(angles_per_line.shape[0]), angles_per_line, s=1)\nax.set_title(\"Rotation angles per line\")\nax.set_xlabel(\"Line number\")\nax.set_ylabel(\"Angle (degrees)\")\nax.spines[\"top\"].set_visible(False)\nax.spines[\"right\"].set_visible(False)\nplt.tight_layout()\nplt.show()"
      ]
    },
    {
      "cell_type": "markdown",
      "metadata": {},
      "source": [
        "Set derotation parameters\nsee :meth:`derotation.analysis.full_derotation_pipeline.FullPipeline\n.find_image_offset` for more details on finding the offset value\n\n"
      ]
    },
    {
      "cell_type": "code",
      "execution_count": null,
      "metadata": {
        "collapsed": false
      },
      "outputs": [],
      "source": [
        "rotation_center = (129, 128)  # (y, x) format\nblank_pixels_value = -3623  # Value for pixels outside the rotated area\n\nprint(f\"Applying derotation with center: {rotation_center}\")"
      ]
    },
    {
      "cell_type": "markdown",
      "metadata": {},
      "source": [
        "plot first frame with rotation center\n\n"
      ]
    },
    {
      "cell_type": "code",
      "execution_count": null,
      "metadata": {
        "collapsed": false
      },
      "outputs": [],
      "source": [
        "fig, ax = plt.subplots(figsize=(10, 5))\nax.imshow(image_stack[0], cmap=\"gray\")\nax.scatter(rotation_center[1], rotation_center[0], color=\"red\", s=20)\nax.set_title(\"Rotation center\")\nax.axis(\"off\")\nplt.tight_layout()\nplt.show()"
      ]
    },
    {
      "cell_type": "markdown",
      "metadata": {},
      "source": [
        "Perform line-by-line derotation\n\n"
      ]
    },
    {
      "cell_type": "code",
      "execution_count": null,
      "metadata": {
        "collapsed": false
      },
      "outputs": [],
      "source": [
        "derotated_stack = derotate_an_image_array_line_by_line(\n    image_stack=image_stack,\n    rot_deg_line=angles_per_line,\n    center=rotation_center,\n    blank_pixels_value=blank_pixels_value,\n)"
      ]
    },
    {
      "cell_type": "markdown",
      "metadata": {},
      "source": [
        "Visualize the result by taking the mean\n\n"
      ]
    },
    {
      "cell_type": "code",
      "execution_count": null,
      "metadata": {
        "collapsed": false
      },
      "outputs": [],
      "source": [
        "mean_image = np.mean(derotated_stack, axis=0)\n\nfig, ax = plt.subplots(figsize=(10, 5))\nax.imshow(mean_image, cmap=\"viridis\")\nax.set_title(\"Mean image of the derotated stack\")\nax.axis(\"off\")\nplt.tight_layout()\nplt.show()"
      ]
    }
  ],
  "metadata": {
    "kernelspec": {
      "display_name": "Python 3",
      "language": "python",
      "name": "python3"
    },
    "language_info": {
      "codemirror_mode": {
        "name": "ipython",
        "version": 3
      },
      "file_extension": ".py",
      "mimetype": "text/x-python",
      "name": "python",
      "nbconvert_exporter": "python",
      "pygments_lexer": "ipython3",
      "version": "3.12.11"
    }
  },
  "nbformat": 4,
  "nbformat_minor": 0
}