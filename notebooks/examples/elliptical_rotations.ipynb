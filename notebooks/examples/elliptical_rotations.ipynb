{
  "cells": [
    {
      "cell_type": "markdown",
      "metadata": {},
      "source": [
        "\n# Simulate out-of-plane rotation during line-scanning acquisition\n\nIn this tutorial, we simulate how image stacks appear when the scanning\nhappens across a plane that is *not aligned* with the imaging plane.\n\nWe will:\n    - Generate synthetic 2D frames with circular cell structures.\n    - Simulate line-by-line rotations with varying angles.\n    - Visualise how the appearance of the image is distorted when the rotation\n      plane is tilted or oriented differently.\n    - Display all frames and a max projection.\n"
      ]
    },
    {
      "cell_type": "markdown",
      "metadata": {},
      "source": [
        "## Imports\n\n"
      ]
    },
    {
      "cell_type": "code",
      "execution_count": null,
      "metadata": {
        "collapsed": false
      },
      "outputs": [],
      "source": [
        "from pathlib import Path\n\nimport matplotlib.pyplot as plt\n\nfrom derotation.simulate.line_scanning_microscope import Rotator\nfrom derotation.simulate.synthetic_data import SyntheticData"
      ]
    },
    {
      "cell_type": "markdown",
      "metadata": {},
      "source": [
        "## Define rotation + plotting functions\n\n"
      ]
    },
    {
      "cell_type": "code",
      "execution_count": null,
      "metadata": {
        "collapsed": false
      },
      "outputs": [],
      "source": [
        "def rotate_image_stack(\n    plane_angle: float = 0,\n    pad: int = 20,\n    orientation: float = 0,\n):\n    \"\"\"\n    Create and rotate a synthetic image stack using the specified\n    rotation parameters.\n    \"\"\"\n    s_data = SyntheticData(\n        radius=1,\n        second_cell=False,\n        pad=pad,\n        background_value=80,\n        num_frames=50,\n    )\n    s_data.image = s_data.create_sample_image_with_cells()\n    image_stack = s_data.create_image_stack()\n    _, angles = s_data.create_rotation_angles(image_stack.shape)\n\n    rotator = Rotator(\n        angles,\n        image_stack,\n        rotation_plane_angle=plane_angle,\n        blank_pixel_val=0,\n        rotation_plane_orientation=orientation,\n    )\n    rotated_image_stack = rotator.rotate_by_line()\n\n    return image_stack, rotated_image_stack, rotator, image_stack.shape[0]\n\n\ndef make_plot(\n    rotated_image_stack,\n    title=\"\",\n):\n    \"\"\"\n    Plot all frames of the rotated stack and their associated angles.\n    \"\"\"\n    fig, ax = plt.subplots(figsize=(12, 6))\n\n    max_proj = rotated_image_stack.max(axis=0)\n    ax.imshow(max_proj, cmap=\"gray\", vmin=0, vmax=255)\n    ax.plot(\n        max_proj.shape[1] / 2,\n        max_proj.shape[0] / 2,\n        \"rx\",\n        markersize=10,\n    )\n    ax.set_title(\"Max projection\")\n    ax.axis(\"off\")\n\n    plt.tight_layout()\n    plt.suptitle(title, fontsize=14)\n    plt.subplots_adjust(top=0.92)\n    plt.show()"
      ]
    },
    {
      "cell_type": "markdown",
      "metadata": {},
      "source": [
        "Create output folder\n\n"
      ]
    },
    {
      "cell_type": "code",
      "execution_count": null,
      "metadata": {
        "collapsed": false
      },
      "outputs": [],
      "source": [
        "Path(\"debug\").mkdir(exist_ok=True)"
      ]
    },
    {
      "cell_type": "markdown",
      "metadata": {},
      "source": [
        "## Example 1 \u2013 rotation out of imaging plane\nHere we simulate a 25\u00b0 tilt in the rotation plane, with no orientation\nshift. This simulates a case where the imaging scan plane is not aligned\nwith the rotation axis.\n\n"
      ]
    },
    {
      "cell_type": "code",
      "execution_count": null,
      "metadata": {
        "collapsed": false
      },
      "outputs": [],
      "source": [
        "image_stack, rotated_image_stack, rotator, num_frames = rotate_image_stack(\n    plane_angle=25, pad=20\n)\n\nprint(\"Rotation plane angle: 25\u00b0\")\nprint(\"Rotation orientation: 0\u00b0\")\n\nmake_plot(\n    rotated_image_stack,\n    title=\"Out-of-plane rotation (25\u00b0 tilt)\",\n)"
      ]
    },
    {
      "cell_type": "markdown",
      "metadata": {},
      "source": [
        "## Example 2 \u2013 rotation + in-plane orientation\nNow we also add a 45\u00b0 orientation to the rotation plane, so it's both tilted\nand diagonally oriented relative to the image.\n\n"
      ]
    },
    {
      "cell_type": "code",
      "execution_count": null,
      "metadata": {
        "collapsed": false
      },
      "outputs": [],
      "source": [
        "image_stack, rotated_image_stack, rotator, num_frames = rotate_image_stack(\n    plane_angle=25, pad=20, orientation=45\n)\n\nprint(\"Rotation plane angle: 25\u00b0\")\nprint(\"Rotation orientation: 45\u00b0\")\n\nmake_plot(\n    rotated_image_stack,\n    title=\"Tilted + Oriented Rotation Plane (25\u00b0, 45\u00b0)\",\n)"
      ]
    },
    {
      "cell_type": "markdown",
      "metadata": {},
      "source": [
        "## Conclusion\nThis simulation helps us visualise how image distortions appear during\nline-scanning acquisition when the imaging plane is misaligned with the\nphysical rotation plane. The observed distortions depend on both the *angle*\nof the rotation plane and its *orientation* in space.\n\n"
      ]
    }
  ],
  "metadata": {
    "kernelspec": {
      "display_name": "Python 3",
      "language": "python",
      "name": "python3"
    },
    "language_info": {
      "codemirror_mode": {
        "name": "ipython",
        "version": 3
      },
      "file_extension": ".py",
      "mimetype": "text/x-python",
      "name": "python",
      "nbconvert_exporter": "python",
      "pygments_lexer": "ipython3",
      "version": "3.12.10"
    }
  },
  "nbformat": 4,
  "nbformat_minor": 0
}