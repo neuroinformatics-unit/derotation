{
  "cells": [
    {
      "cell_type": "markdown",
      "metadata": {},
      "source": [
        "\n# Find center of rotation with simulated data\n\nThis tutorial use the synthetic data class to show how it can be possible\nto use an incremental rotation movie to find the center of rotation,\nrotation plane angle and rotation plane orientation and then derotate\na movie with any angle pattern.\n\nWhat happens behind the scenes:\n    - Generate a synthetic image with two cells and two angle patterns,\n      one for incremental pipeline (in steps) and one for testing (a\n      sinusoidal pattern).\n    - Use the Rotator class to derotate the movie with the incremental angle\n      pattern and the sinusoidal angle pattern.\n    - Find the center of rotation by fitting an ellipse to the largest blob\n      for different angle positions.\n    - Derotate the movie with the sinusoidal angle pattern using the\n      center of rotation and ellipse parameters found in the previous step.\n\nWe are going to inspect the plots generated during the pipeline to see\nhow the algorithm works and how the center of rotation is found.\n\nThis serves only as an illustrative example. To understand how to find the\ncenter of rotation with real data, please refer to the Key concepts page\nin the User guide.\n"
      ]
    },
    {
      "cell_type": "markdown",
      "metadata": {},
      "source": [
        "## Imports\n\n"
      ]
    },
    {
      "cell_type": "code",
      "execution_count": null,
      "metadata": {
        "collapsed": false
      },
      "outputs": [],
      "source": [
        "from pathlib import Path\n\nimport matplotlib.pyplot as plt\n\nfrom derotation.simulate.synthetic_data import SyntheticData"
      ]
    },
    {
      "cell_type": "markdown",
      "metadata": {},
      "source": [
        "## Define parameters for the synthetic simulation\n\n"
      ]
    },
    {
      "cell_type": "code",
      "execution_count": null,
      "metadata": {
        "collapsed": false
      },
      "outputs": [],
      "source": [
        "rotation_plane_angle = 10  # degrees\nrotation_plane_orientation = 30  # degrees\ncenter_of_rotation_offset = (7, -7)  # pixels"
      ]
    },
    {
      "cell_type": "markdown",
      "metadata": {},
      "source": [
        "## Run full pipeline\nThis will generate simulated rotated data and run an incremental search\nto find the optimal center of rotation.\nAll intermediate plots are saved in the \"debug\" folder.\n\n"
      ]
    },
    {
      "cell_type": "code",
      "execution_count": null,
      "metadata": {
        "collapsed": false
      },
      "outputs": [],
      "source": [
        "s_data = SyntheticData(\n    radius=2,\n    center_of_rotation_offset=center_of_rotation_offset,\n    rotation_plane_angle=rotation_plane_angle,\n    rotation_plane_orientation=rotation_plane_orientation,\n    num_frames=50,\n    pad=20,\n    background_value=80,\n    plots=True,\n)\n\ns_data.integration_pipeline()"
      ]
    },
    {
      "cell_type": "markdown",
      "metadata": {},
      "source": [
        "## Display relevant plots\nLet's display some of the plots generated during the pipeline.\n\n"
      ]
    },
    {
      "cell_type": "code",
      "execution_count": null,
      "metadata": {
        "collapsed": false
      },
      "outputs": [],
      "source": [
        "debug_folder = Path(\"debug\")\ndebug_images = sorted(debug_folder.glob(\"*.png\"))\n\n\ndef get_image_path(name):\n    return [img_path for img_path in debug_images if name in img_path.name][0]\n\n\ndef show_image(path):\n    img = plt.imread(path)\n    plt.imshow(img)\n    plt.axis(\"off\")\n    plt.show()"
      ]
    },
    {
      "cell_type": "markdown",
      "metadata": {},
      "source": [
        "The synthetic image with two cells that was generated\n\n"
      ]
    },
    {
      "cell_type": "code",
      "execution_count": null,
      "metadata": {
        "collapsed": false
      },
      "outputs": [],
      "source": [
        "show_image(get_image_path(\"image_\"))"
      ]
    },
    {
      "cell_type": "markdown",
      "metadata": {},
      "source": [
        "Rotation angles for incremental pipeline and sinusoidal pattern\n\n"
      ]
    },
    {
      "cell_type": "code",
      "execution_count": null,
      "metadata": {
        "collapsed": false
      },
      "outputs": [],
      "source": [
        "show_image(get_image_path(\"rotation_angles\"))"
      ]
    },
    {
      "cell_type": "markdown",
      "metadata": {},
      "source": [
        "Fit an ellipse to the largest blob for different angle positions\n\n"
      ]
    },
    {
      "cell_type": "code",
      "execution_count": null,
      "metadata": {
        "collapsed": false
      },
      "outputs": [],
      "source": [
        "show_image(get_image_path(\"ellipse_fit\"))\n\nprint(f\"Estimated center of rotation: {s_data.fitted_center}\")\nprint(f\"Estimated rotation plane angle: {s_data.rotation_plane_angle}\")\nprint(\n    \"Estimated rotation plane orientation: \"\n    f\"{s_data.rotation_plane_orientation}\"\n)"
      ]
    },
    {
      "cell_type": "markdown",
      "metadata": {},
      "source": [
        "Derotated movie with the sinusoidal angle pattern using the information\nfound in the previous step\n\n"
      ]
    },
    {
      "cell_type": "code",
      "execution_count": null,
      "metadata": {
        "collapsed": false
      },
      "outputs": [],
      "source": [
        "show_image(get_image_path(\"derotated_sinusoidal\"))"
      ]
    },
    {
      "cell_type": "markdown",
      "metadata": {},
      "source": [
        "Plot mean projection of the derotated movie as a check of the derotation\nquality\n\n"
      ]
    },
    {
      "cell_type": "code",
      "execution_count": null,
      "metadata": {
        "collapsed": false
      },
      "outputs": [],
      "source": [
        "show_image(get_image_path(\"mean_projection\"))"
      ]
    }
  ],
  "metadata": {
    "kernelspec": {
      "display_name": "Python 3",
      "language": "python",
      "name": "python3"
    },
    "language_info": {
      "codemirror_mode": {
        "name": "ipython",
        "version": 3
      },
      "file_extension": ".py",
      "mimetype": "text/x-python",
      "name": "python",
      "nbconvert_exporter": "python",
      "pygments_lexer": "ipython3",
      "version": "3.12.10"
    }
  },
  "nbformat": 4,
  "nbformat_minor": 0
}