{
  "cells": [
    {
      "cell_type": "markdown",
      "metadata": {},
      "source": [
        "\n# Full pipeline on real data: derotation and center of rotation estimation\n\nThis example shows how to run the full derotation pipeline on real data,\nincluding: a TIFF movie, analog signals (.npy), and a CSV file with stimulus\nrandomization. The pipeline performs automatic estimation of the center of\nrotation, derotation, and saves intermediate results and visualizations in an\noutput folder.\n\nSteps performed:\n    - Load configuration from a YAML file and update file paths\n    - Initialize the `FullPipeline` class with:\n        - A TIFF movie to derotate\n        - A `.npy` file with analog signals from ScanImage and a step motor\n          (ordered as: frame clock, line clock, rotation on, rotation ticks)\n        - A CSV file with stimulus randomization\n    - Run the full pipeline, which:\n        - Interpolates rotation angles per acquired line from analog signals\n        - Estimates the center of rotation using a Bayesian optimization\n          approach\n        - Derotates the movie based on estimated parameters\n        - Saves the derotated movie and rotation angles\n\nAt the end, we visualize key plots generated during processing and explore the\nresults saved in the output folder.\n"
      ]
    },
    {
      "cell_type": "markdown",
      "metadata": {},
      "source": [
        "## Imports\n\n"
      ]
    },
    {
      "cell_type": "code",
      "execution_count": null,
      "metadata": {
        "collapsed": false
      },
      "outputs": [],
      "source": [
        "from pathlib import Path\n\nimport matplotlib.pyplot as plt\n\nfrom derotation.analysis.full_derotation_pipeline import FullPipeline\nfrom derotation.config.load_config import load_config, update_config_paths\nfrom derotation.sample_data import fetch_data"
      ]
    },
    {
      "cell_type": "markdown",
      "metadata": {},
      "source": [
        "## Load and update configuration\nWe define paths relative to the current working directory\n\n"
      ]
    },
    {
      "cell_type": "code",
      "execution_count": null,
      "metadata": {
        "collapsed": false
      },
      "outputs": [],
      "source": [
        "current_module_path = Path.cwd()\n\nconfig = load_config()\nconfig = update_config_paths(\n    config=config,\n    tif_path=str(fetch_data(\"rotation_sample.tif\")),\n    aux_path=str(fetch_data(\"analog_signals.npy\")),\n    stim_randperm_path=str(fetch_data(\"stimulus_randperm.csv\")),\n    output_folder=str(current_module_path),\n)"
      ]
    },
    {
      "cell_type": "markdown",
      "metadata": {},
      "source": [
        "## Initialize pipeline\n\n"
      ]
    },
    {
      "cell_type": "code",
      "execution_count": null,
      "metadata": {
        "collapsed": false
      },
      "outputs": [],
      "source": [
        "pipeline = FullPipeline(config)"
      ]
    },
    {
      "cell_type": "markdown",
      "metadata": {},
      "source": [
        "## Peek into the loaded data\n\n"
      ]
    },
    {
      "cell_type": "code",
      "execution_count": null,
      "metadata": {
        "collapsed": false
      },
      "outputs": [],
      "source": [
        "print(f\"Loaded movie shape: {pipeline.image_stack.shape}\")\nplt.imshow(pipeline.image_stack[0], cmap=\"viridis\")\nplt.title(\"First frame of the movie\")\nplt.axis(\"off\")\nplt.show()"
      ]
    },
    {
      "cell_type": "markdown",
      "metadata": {},
      "source": [
        "Useful attributes before running the pipeline\n\n"
      ]
    },
    {
      "cell_type": "code",
      "execution_count": null,
      "metadata": {
        "collapsed": false
      },
      "outputs": [],
      "source": [
        "print(f\"Number of frames: {pipeline.num_frames}\")\nprint(f\"Lines per frame: {pipeline.num_lines_per_frame}\")\nprint(f\"Rotation speeds: {pipeline.speed} deg/s\")\nprint(f\"Rotation direction: {pipeline.direction} (\u22121 = CCW, 1 = CW)\")\nprint(f\"Estimated number of full rotations: {pipeline.number_of_rotations}\")"
      ]
    },
    {
      "cell_type": "markdown",
      "metadata": {},
      "source": [
        "## Run the full pipeline\n\n"
      ]
    },
    {
      "cell_type": "code",
      "execution_count": null,
      "metadata": {
        "collapsed": false
      },
      "outputs": [],
      "source": [
        "pipeline()"
      ]
    },
    {
      "cell_type": "markdown",
      "metadata": {},
      "source": [
        "## Inspecting the output\n\n"
      ]
    },
    {
      "cell_type": "markdown",
      "metadata": {},
      "source": [
        "Convenience handles for later use\n\n"
      ]
    },
    {
      "cell_type": "code",
      "execution_count": null,
      "metadata": {
        "collapsed": false
      },
      "outputs": [],
      "source": [
        "debug_folder = pipeline.debug_plots_folder\ndebug_images = sorted(debug_folder.glob(\"*.png\"))\nmean_images_folder = debug_folder / \"mean_images\"\n\n\ndef get_image_path(name):\n    for img_path in debug_images:\n        if name == img_path.name.split(\".\")[0]:\n            return img_path\n\n\ndef show_image(path):\n    img = plt.imread(path)\n    plt.imshow(img)\n    plt.axis(\"off\")\n    plt.tight_layout()\n    plt.show()"
      ]
    },
    {
      "cell_type": "markdown",
      "metadata": {},
      "source": [
        "Rotation detection based on analog signals\n\n"
      ]
    },
    {
      "cell_type": "code",
      "execution_count": null,
      "metadata": {
        "collapsed": false
      },
      "outputs": [],
      "source": [
        "show_image(get_image_path(\"rotation_ticks_and_rotation_on\"))\n\nprint(f\"Expected number of ticks: {pipeline.number_of_rotations * 360 / 0.2}\")\nprint(f\"Detected ticks: {len(pipeline.rotation_ticks_peaks)}\")\nprint(\n    f\"Adjusted rotation increment: {pipeline.rotation_increment:.3f} degrees\"\n)"
      ]
    },
    {
      "cell_type": "markdown",
      "metadata": {},
      "source": [
        "Interpolated rotation angles per line\nGreen = frame-level angles, Yellow = interpolated per-line angles\n\n"
      ]
    },
    {
      "cell_type": "code",
      "execution_count": null,
      "metadata": {
        "collapsed": false
      },
      "outputs": [],
      "source": [
        "show_image(get_image_path(\"rotation_angles\"))"
      ]
    },
    {
      "cell_type": "markdown",
      "metadata": {},
      "source": [
        "Calculated baseline (offset) of the image in arbitrary units\n\n"
      ]
    },
    {
      "cell_type": "code",
      "execution_count": null,
      "metadata": {
        "collapsed": false
      },
      "outputs": [],
      "source": [
        "print(f\"Estimated image offset: {pipeline.offset}\")"
      ]
    },
    {
      "cell_type": "markdown",
      "metadata": {},
      "source": [
        "Original max projection with estimated center\n\n"
      ]
    },
    {
      "cell_type": "code",
      "execution_count": null,
      "metadata": {
        "collapsed": false
      },
      "outputs": [],
      "source": [
        "show_image(get_image_path(\"max_projection_with_center\"))"
      ]
    },
    {
      "cell_type": "markdown",
      "metadata": {},
      "source": [
        "Position of the most detected cell after finding the optimal center of\nrotation. As you can see it is pretty stable.\n\n"
      ]
    },
    {
      "cell_type": "code",
      "execution_count": null,
      "metadata": {
        "collapsed": false
      },
      "outputs": [],
      "source": [
        "show_image(get_image_path(\"most_detected_blob_centers\"))"
      ]
    },
    {
      "cell_type": "markdown",
      "metadata": {},
      "source": [
        "Derotated max projection with center overlaid\nNow the cells are aligned, although registration might still be needed\n\n"
      ]
    },
    {
      "cell_type": "code",
      "execution_count": null,
      "metadata": {
        "collapsed": false
      },
      "outputs": [],
      "source": [
        "show_image(get_image_path(\"derotated_max_projection_with_center\"))"
      ]
    },
    {
      "cell_type": "markdown",
      "metadata": {},
      "source": [
        "Rotation angles and derotation metadata are accessible as a pandas DataFrame\n\n"
      ]
    },
    {
      "cell_type": "code",
      "execution_count": null,
      "metadata": {
        "collapsed": false
      },
      "outputs": [],
      "source": [
        "print(pipeline.derotation_output_table.iloc[125:153])"
      ]
    }
  ],
  "metadata": {
    "kernelspec": {
      "display_name": "Python 3",
      "language": "python",
      "name": "python3"
    },
    "language_info": {
      "codemirror_mode": {
        "name": "ipython",
        "version": 3
      },
      "file_extension": ".py",
      "mimetype": "text/x-python",
      "name": "python",
      "nbconvert_exporter": "python",
      "pygments_lexer": "ipython3",
      "version": "3.12.11"
    }
  },
  "nbformat": 4,
  "nbformat_minor": 0
}